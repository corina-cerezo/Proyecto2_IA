{
 "cells": [
  {
   "cell_type": "markdown",
   "metadata": {},
   "source": [
    "# Modelo SIR COVID-19 México"
   ]
  },
  {
   "cell_type": "markdown",
   "metadata": {},
   "source": [
    "### Corina Cerezo"
   ]
  },
  {
   "cell_type": "code",
   "execution_count": 1,
   "metadata": {},
   "outputs": [],
   "source": [
    "import pandas as pd\n",
    "import numpy as np\n",
    "from scipy.integrate import odeint\n",
    "import matplotlib.pyplot as plt\n",
    "import PDEparams as pde\n",
    "from datetime import datetime, timedelta, date"
   ]
  },
  {
   "cell_type": "markdown",
   "metadata": {},
   "source": [
    "# Introducción"
   ]
  },
  {
   "cell_type": "markdown",
   "metadata": {},
   "source": [
    "En este trabajo se aplica el método Monte Carlo para estimar los parámetros del modelo dinámico SIR con la base de datos de Covid-19 México (hasta la fecha 08 de dic de 2020). Posteriormente, una vez conocidos los parámetros, se grafica el modelo en comparación con los datos."
   ]
  },
  {
   "cell_type": "markdown",
   "metadata": {},
   "source": [
    "## Modelo SIR\n",
    "\n",
    "El modelo SIR es un modelo matemático que nos permite predecir el comportamiento de una enfermedad infecciosa, a partir de ciertas condiciones iniciales. Este modelo clasifica a una población en tres grupos distintos:\n",
    "\n",
    "* **S**: Susceptibles. Número de personas que son propensas a la enfermedad (que aún no se han enfermado).\n",
    "* **I**: Infectados. Número de personas que tienen la enfermedad y que pueden infectar a la gente susceptible.\n",
    "* **R**: Recuperado. Número de personas que no pueden contraer la enfermedad, porque se han recuperado completamente, o porque son inmunes o porque fallecieron.\n",
    "\n",
    "Además este modelo usa principalmente dos parámetros:\n",
    "\n",
    "* $\\beta$: Tasa de transmisión. Describe qué tan rápido se transmite la infección de un individuo a otro (probabilidad de que una persona se enferme).\n",
    "* $\\gamma$: Tasa de recuperación. Describe qué tan rápido un individuo se recupera.\n",
    "\n",
    "Ahora bien, la razón de cambio con respecto al tiempo $t$ de la cantidad de personas de los tres grupos ya mencionados está dada por:\n",
    "\n",
    "$$\\frac{\\partial S}{\\partial t} = -\\beta \\cdot S \\cdot \\frac{I}{N}$$\n",
    "$$\\frac{\\partial I}{\\partial t} = \\beta \\cdot S \\cdot \\frac{I}{N}-\\gamma \\cdot I$$\n",
    "$$\\frac{\\partial R}{\\partial t} = \\gamma \\cdot I$$\n",
    "\n",
    "Estas tres forman un sistema de ecuaciones diferenciales que permiten modelar enfermedades infecciosas.\n"
   ]
  },
  {
   "cell_type": "markdown",
   "metadata": {},
   "source": [
    "## Datos"
   ]
  },
  {
   "cell_type": "markdown",
   "metadata": {},
   "source": [
    "Esta base de datos corresponde al informe de pacientes con Covid-19 hasta el día 08 de diciembre de 2020."
   ]
  },
  {
   "cell_type": "code",
   "execution_count": 2,
   "metadata": {},
   "outputs": [],
   "source": [
    "datos = pd.read_csv('201208COVID19MEXICO.csv', encoding = \"ISO-8859-1\")"
   ]
  },
  {
   "cell_type": "code",
   "execution_count": 3,
   "metadata": {},
   "outputs": [
    {
     "data": {
      "text/html": [
       "<div>\n",
       "<style scoped>\n",
       "    .dataframe tbody tr th:only-of-type {\n",
       "        vertical-align: middle;\n",
       "    }\n",
       "\n",
       "    .dataframe tbody tr th {\n",
       "        vertical-align: top;\n",
       "    }\n",
       "\n",
       "    .dataframe thead th {\n",
       "        text-align: right;\n",
       "    }\n",
       "</style>\n",
       "<table border=\"1\" class=\"dataframe\">\n",
       "  <thead>\n",
       "    <tr style=\"text-align: right;\">\n",
       "      <th></th>\n",
       "      <th>FECHA_ACTUALIZACION</th>\n",
       "      <th>ID_REGISTRO</th>\n",
       "      <th>ORIGEN</th>\n",
       "      <th>SECTOR</th>\n",
       "      <th>ENTIDAD_UM</th>\n",
       "      <th>SEXO</th>\n",
       "      <th>ENTIDAD_NAC</th>\n",
       "      <th>ENTIDAD_RES</th>\n",
       "      <th>MUNICIPIO_RES</th>\n",
       "      <th>TIPO_PACIENTE</th>\n",
       "      <th>...</th>\n",
       "      <th>OTRO_CASO</th>\n",
       "      <th>TOMA_MUESTRA_LAB</th>\n",
       "      <th>RESULTADO_LAB</th>\n",
       "      <th>TOMA_MUESTRA_ANTIGENO</th>\n",
       "      <th>RESULTADO_ANTIGENO</th>\n",
       "      <th>CLASIFICACION_FINAL</th>\n",
       "      <th>MIGRANTE</th>\n",
       "      <th>PAIS_NACIONALIDAD</th>\n",
       "      <th>PAIS_ORIGEN</th>\n",
       "      <th>UCI</th>\n",
       "    </tr>\n",
       "  </thead>\n",
       "  <tbody>\n",
       "    <tr>\n",
       "      <th>0</th>\n",
       "      <td>2020-12-08</td>\n",
       "      <td>1468a5</td>\n",
       "      <td>1</td>\n",
       "      <td>4</td>\n",
       "      <td>5</td>\n",
       "      <td>1</td>\n",
       "      <td>15</td>\n",
       "      <td>5</td>\n",
       "      <td>18</td>\n",
       "      <td>1</td>\n",
       "      <td>...</td>\n",
       "      <td>1</td>\n",
       "      <td>1</td>\n",
       "      <td>1</td>\n",
       "      <td>2</td>\n",
       "      <td>97</td>\n",
       "      <td>3</td>\n",
       "      <td>99</td>\n",
       "      <td>MÃ©xico</td>\n",
       "      <td>97</td>\n",
       "      <td>97</td>\n",
       "    </tr>\n",
       "    <tr>\n",
       "      <th>1</th>\n",
       "      <td>2020-12-08</td>\n",
       "      <td>043f64</td>\n",
       "      <td>2</td>\n",
       "      <td>4</td>\n",
       "      <td>9</td>\n",
       "      <td>2</td>\n",
       "      <td>9</td>\n",
       "      <td>9</td>\n",
       "      <td>10</td>\n",
       "      <td>2</td>\n",
       "      <td>...</td>\n",
       "      <td>99</td>\n",
       "      <td>1</td>\n",
       "      <td>1</td>\n",
       "      <td>2</td>\n",
       "      <td>97</td>\n",
       "      <td>3</td>\n",
       "      <td>99</td>\n",
       "      <td>MÃ©xico</td>\n",
       "      <td>97</td>\n",
       "      <td>1</td>\n",
       "    </tr>\n",
       "    <tr>\n",
       "      <th>2</th>\n",
       "      <td>2020-12-08</td>\n",
       "      <td>0e07d8</td>\n",
       "      <td>1</td>\n",
       "      <td>4</td>\n",
       "      <td>15</td>\n",
       "      <td>2</td>\n",
       "      <td>15</td>\n",
       "      <td>15</td>\n",
       "      <td>104</td>\n",
       "      <td>2</td>\n",
       "      <td>...</td>\n",
       "      <td>99</td>\n",
       "      <td>1</td>\n",
       "      <td>1</td>\n",
       "      <td>2</td>\n",
       "      <td>97</td>\n",
       "      <td>3</td>\n",
       "      <td>99</td>\n",
       "      <td>MÃ©xico</td>\n",
       "      <td>97</td>\n",
       "      <td>2</td>\n",
       "    </tr>\n",
       "    <tr>\n",
       "      <th>3</th>\n",
       "      <td>2020-12-08</td>\n",
       "      <td>13757c</td>\n",
       "      <td>1</td>\n",
       "      <td>12</td>\n",
       "      <td>15</td>\n",
       "      <td>1</td>\n",
       "      <td>15</td>\n",
       "      <td>15</td>\n",
       "      <td>106</td>\n",
       "      <td>1</td>\n",
       "      <td>...</td>\n",
       "      <td>1</td>\n",
       "      <td>1</td>\n",
       "      <td>1</td>\n",
       "      <td>2</td>\n",
       "      <td>97</td>\n",
       "      <td>3</td>\n",
       "      <td>99</td>\n",
       "      <td>MÃ©xico</td>\n",
       "      <td>97</td>\n",
       "      <td>97</td>\n",
       "    </tr>\n",
       "    <tr>\n",
       "      <th>4</th>\n",
       "      <td>2020-12-08</td>\n",
       "      <td>002371</td>\n",
       "      <td>1</td>\n",
       "      <td>4</td>\n",
       "      <td>3</td>\n",
       "      <td>2</td>\n",
       "      <td>3</td>\n",
       "      <td>3</td>\n",
       "      <td>8</td>\n",
       "      <td>1</td>\n",
       "      <td>...</td>\n",
       "      <td>99</td>\n",
       "      <td>1</td>\n",
       "      <td>1</td>\n",
       "      <td>2</td>\n",
       "      <td>97</td>\n",
       "      <td>3</td>\n",
       "      <td>99</td>\n",
       "      <td>MÃ©xico</td>\n",
       "      <td>97</td>\n",
       "      <td>97</td>\n",
       "    </tr>\n",
       "  </tbody>\n",
       "</table>\n",
       "<p>5 rows × 40 columns</p>\n",
       "</div>"
      ],
      "text/plain": [
       "  FECHA_ACTUALIZACION ID_REGISTRO  ORIGEN  SECTOR  ENTIDAD_UM  SEXO  \\\n",
       "0          2020-12-08      1468a5       1       4           5     1   \n",
       "1          2020-12-08      043f64       2       4           9     2   \n",
       "2          2020-12-08      0e07d8       1       4          15     2   \n",
       "3          2020-12-08      13757c       1      12          15     1   \n",
       "4          2020-12-08      002371       1       4           3     2   \n",
       "\n",
       "   ENTIDAD_NAC  ENTIDAD_RES  MUNICIPIO_RES  TIPO_PACIENTE  ... OTRO_CASO  \\\n",
       "0           15            5             18              1  ...         1   \n",
       "1            9            9             10              2  ...        99   \n",
       "2           15           15            104              2  ...        99   \n",
       "3           15           15            106              1  ...         1   \n",
       "4            3            3              8              1  ...        99   \n",
       "\n",
       "  TOMA_MUESTRA_LAB RESULTADO_LAB  TOMA_MUESTRA_ANTIGENO  RESULTADO_ANTIGENO  \\\n",
       "0                1             1                      2                  97   \n",
       "1                1             1                      2                  97   \n",
       "2                1             1                      2                  97   \n",
       "3                1             1                      2                  97   \n",
       "4                1             1                      2                  97   \n",
       "\n",
       "   CLASIFICACION_FINAL  MIGRANTE  PAIS_NACIONALIDAD  PAIS_ORIGEN  UCI  \n",
       "0                    3        99            MÃ©xico           97   97  \n",
       "1                    3        99            MÃ©xico           97    1  \n",
       "2                    3        99            MÃ©xico           97    2  \n",
       "3                    3        99            MÃ©xico           97   97  \n",
       "4                    3        99            MÃ©xico           97   97  \n",
       "\n",
       "[5 rows x 40 columns]"
      ]
     },
     "execution_count": 3,
     "metadata": {},
     "output_type": "execute_result"
    }
   ],
   "source": [
    "datos.head()"
   ]
  },
  {
   "cell_type": "markdown",
   "metadata": {},
   "source": [
    "Se toman solo las variables de interes que son ID_REGISTRO, FECHA_SINTOMAS, FECHA_DEF y RESULTADO"
   ]
  },
  {
   "cell_type": "code",
   "execution_count": 4,
   "metadata": {},
   "outputs": [
    {
     "data": {
      "text/html": [
       "<div>\n",
       "<style scoped>\n",
       "    .dataframe tbody tr th:only-of-type {\n",
       "        vertical-align: middle;\n",
       "    }\n",
       "\n",
       "    .dataframe tbody tr th {\n",
       "        vertical-align: top;\n",
       "    }\n",
       "\n",
       "    .dataframe thead th {\n",
       "        text-align: right;\n",
       "    }\n",
       "</style>\n",
       "<table border=\"1\" class=\"dataframe\">\n",
       "  <thead>\n",
       "    <tr style=\"text-align: right;\">\n",
       "      <th></th>\n",
       "      <th>ID_REGISTRO</th>\n",
       "      <th>FECHA_SINTOMAS</th>\n",
       "      <th>FECHA_DEF</th>\n",
       "      <th>RESULTADO</th>\n",
       "    </tr>\n",
       "  </thead>\n",
       "  <tbody>\n",
       "    <tr>\n",
       "      <th>0</th>\n",
       "      <td>1468a5</td>\n",
       "      <td>2020-03-27</td>\n",
       "      <td>9999-99-99</td>\n",
       "      <td>3</td>\n",
       "    </tr>\n",
       "    <tr>\n",
       "      <th>1</th>\n",
       "      <td>043f64</td>\n",
       "      <td>2020-03-26</td>\n",
       "      <td>2020-03-30</td>\n",
       "      <td>3</td>\n",
       "    </tr>\n",
       "    <tr>\n",
       "      <th>2</th>\n",
       "      <td>0e07d8</td>\n",
       "      <td>2020-03-28</td>\n",
       "      <td>2020-04-02</td>\n",
       "      <td>3</td>\n",
       "    </tr>\n",
       "    <tr>\n",
       "      <th>3</th>\n",
       "      <td>13757c</td>\n",
       "      <td>2020-03-27</td>\n",
       "      <td>9999-99-99</td>\n",
       "      <td>3</td>\n",
       "    </tr>\n",
       "    <tr>\n",
       "      <th>4</th>\n",
       "      <td>002371</td>\n",
       "      <td>2020-03-27</td>\n",
       "      <td>9999-99-99</td>\n",
       "      <td>3</td>\n",
       "    </tr>\n",
       "    <tr>\n",
       "      <th>5</th>\n",
       "      <td>11fb00</td>\n",
       "      <td>2020-03-25</td>\n",
       "      <td>2020-04-05</td>\n",
       "      <td>3</td>\n",
       "    </tr>\n",
       "    <tr>\n",
       "      <th>6</th>\n",
       "      <td>092521</td>\n",
       "      <td>2020-03-28</td>\n",
       "      <td>9999-99-99</td>\n",
       "      <td>3</td>\n",
       "    </tr>\n",
       "    <tr>\n",
       "      <th>7</th>\n",
       "      <td>0955a5</td>\n",
       "      <td>2020-03-28</td>\n",
       "      <td>9999-99-99</td>\n",
       "      <td>3</td>\n",
       "    </tr>\n",
       "    <tr>\n",
       "      <th>8</th>\n",
       "      <td>1a1f12</td>\n",
       "      <td>2020-03-27</td>\n",
       "      <td>2020-03-31</td>\n",
       "      <td>3</td>\n",
       "    </tr>\n",
       "    <tr>\n",
       "      <th>9</th>\n",
       "      <td>12d93f</td>\n",
       "      <td>2020-03-20</td>\n",
       "      <td>9999-99-99</td>\n",
       "      <td>3</td>\n",
       "    </tr>\n",
       "    <tr>\n",
       "      <th>10</th>\n",
       "      <td>197355</td>\n",
       "      <td>2020-03-02</td>\n",
       "      <td>9999-99-99</td>\n",
       "      <td>3</td>\n",
       "    </tr>\n",
       "    <tr>\n",
       "      <th>11</th>\n",
       "      <td>0b3ad1</td>\n",
       "      <td>2020-03-15</td>\n",
       "      <td>9999-99-99</td>\n",
       "      <td>3</td>\n",
       "    </tr>\n",
       "    <tr>\n",
       "      <th>12</th>\n",
       "      <td>03f951</td>\n",
       "      <td>2020-03-20</td>\n",
       "      <td>9999-99-99</td>\n",
       "      <td>3</td>\n",
       "    </tr>\n",
       "    <tr>\n",
       "      <th>13</th>\n",
       "      <td>185d7d</td>\n",
       "      <td>2020-03-11</td>\n",
       "      <td>9999-99-99</td>\n",
       "      <td>3</td>\n",
       "    </tr>\n",
       "    <tr>\n",
       "      <th>14</th>\n",
       "      <td>0e7ba2</td>\n",
       "      <td>2020-03-26</td>\n",
       "      <td>9999-99-99</td>\n",
       "      <td>3</td>\n",
       "    </tr>\n",
       "  </tbody>\n",
       "</table>\n",
       "</div>"
      ],
      "text/plain": [
       "   ID_REGISTRO FECHA_SINTOMAS   FECHA_DEF  RESULTADO\n",
       "0       1468a5     2020-03-27  9999-99-99          3\n",
       "1       043f64     2020-03-26  2020-03-30          3\n",
       "2       0e07d8     2020-03-28  2020-04-02          3\n",
       "3       13757c     2020-03-27  9999-99-99          3\n",
       "4       002371     2020-03-27  9999-99-99          3\n",
       "5       11fb00     2020-03-25  2020-04-05          3\n",
       "6       092521     2020-03-28  9999-99-99          3\n",
       "7       0955a5     2020-03-28  9999-99-99          3\n",
       "8       1a1f12     2020-03-27  2020-03-31          3\n",
       "9       12d93f     2020-03-20  9999-99-99          3\n",
       "10      197355     2020-03-02  9999-99-99          3\n",
       "11      0b3ad1     2020-03-15  9999-99-99          3\n",
       "12      03f951     2020-03-20  9999-99-99          3\n",
       "13      185d7d     2020-03-11  9999-99-99          3\n",
       "14      0e7ba2     2020-03-26  9999-99-99          3"
      ]
     },
     "execution_count": 4,
     "metadata": {},
     "output_type": "execute_result"
    }
   ],
   "source": [
    "datos = datos[['ID_REGISTRO', 'FECHA_SINTOMAS', 'FECHA_DEF', 'CLASIFICACION_FINAL']]\n",
    "datos = datos.rename(columns={\"CLASIFICACION_FINAL\": \"RESULTADO\"}, errors=\"raise\")\n",
    "datos.head(15)"
   ]
  },
  {
   "cell_type": "code",
   "execution_count": 5,
   "metadata": {},
   "outputs": [
    {
     "data": {
      "text/html": [
       "<div>\n",
       "<style scoped>\n",
       "    .dataframe tbody tr th:only-of-type {\n",
       "        vertical-align: middle;\n",
       "    }\n",
       "\n",
       "    .dataframe tbody tr th {\n",
       "        vertical-align: top;\n",
       "    }\n",
       "\n",
       "    .dataframe thead th {\n",
       "        text-align: right;\n",
       "    }\n",
       "</style>\n",
       "<table border=\"1\" class=\"dataframe\">\n",
       "  <thead>\n",
       "    <tr style=\"text-align: right;\">\n",
       "      <th></th>\n",
       "      <th>ID_REGISTRO</th>\n",
       "      <th>FECHA_SINTOMAS</th>\n",
       "      <th>FECHA_DEF</th>\n",
       "      <th>RESULTADO</th>\n",
       "    </tr>\n",
       "  </thead>\n",
       "  <tbody>\n",
       "    <tr>\n",
       "      <th>1920860</th>\n",
       "      <td>2e7963</td>\n",
       "      <td>2020-08-27</td>\n",
       "      <td>2020-07-16</td>\n",
       "      <td>2</td>\n",
       "    </tr>\n",
       "  </tbody>\n",
       "</table>\n",
       "</div>"
      ],
      "text/plain": [
       "        ID_REGISTRO FECHA_SINTOMAS  FECHA_DEF  RESULTADO\n",
       "1920860      2e7963     2020-08-27 2020-07-16          2"
      ]
     },
     "execution_count": 5,
     "metadata": {},
     "output_type": "execute_result"
    }
   ],
   "source": [
    "# Notemos a ver si existe gente rara\n",
    "aux = datos[(datos['RESULTADO'] <= 3) & (datos['FECHA_DEF'] != \"9999-99-99\")]\n",
    "aux['FECHA_SINTOMAS'] = pd.to_datetime(aux['FECHA_SINTOMAS'], format=\"%Y/%m/%d\")\n",
    "aux['FECHA_DEF'] = pd.to_datetime(aux['FECHA_DEF'], format=\"%Y/%m/%d\")\n",
    "raros = aux[aux['FECHA_SINTOMAS'] > aux['FECHA_DEF']]\n",
    "raros.head(20)"
   ]
  },
  {
   "cell_type": "code",
   "execution_count": 6,
   "metadata": {},
   "outputs": [],
   "source": [
    "#esta persona se contagió de covid después de muerta jajajajaja\n",
    "#como eso esta raro la quitamos\n",
    "datos = datos.drop([1920860], axis = 0)"
   ]
  },
  {
   "cell_type": "code",
   "execution_count": 7,
   "metadata": {},
   "outputs": [
    {
     "data": {
      "text/html": [
       "<div>\n",
       "<style scoped>\n",
       "    .dataframe tbody tr th:only-of-type {\n",
       "        vertical-align: middle;\n",
       "    }\n",
       "\n",
       "    .dataframe tbody tr th {\n",
       "        vertical-align: top;\n",
       "    }\n",
       "\n",
       "    .dataframe thead th {\n",
       "        text-align: right;\n",
       "    }\n",
       "</style>\n",
       "<table border=\"1\" class=\"dataframe\">\n",
       "  <thead>\n",
       "    <tr style=\"text-align: right;\">\n",
       "      <th></th>\n",
       "      <th>ID_REGISTRO</th>\n",
       "      <th>FECHA_SINTOMAS</th>\n",
       "      <th>FECHA_DEF</th>\n",
       "      <th>RESULTADO</th>\n",
       "    </tr>\n",
       "  </thead>\n",
       "  <tbody>\n",
       "    <tr>\n",
       "      <th>0</th>\n",
       "      <td>1468a5</td>\n",
       "      <td>2020-03-27</td>\n",
       "      <td>9999-99-99</td>\n",
       "      <td>3</td>\n",
       "    </tr>\n",
       "    <tr>\n",
       "      <th>1</th>\n",
       "      <td>043f64</td>\n",
       "      <td>2020-03-26</td>\n",
       "      <td>2020-03-30</td>\n",
       "      <td>3</td>\n",
       "    </tr>\n",
       "    <tr>\n",
       "      <th>2</th>\n",
       "      <td>0e07d8</td>\n",
       "      <td>2020-03-28</td>\n",
       "      <td>2020-04-02</td>\n",
       "      <td>3</td>\n",
       "    </tr>\n",
       "    <tr>\n",
       "      <th>3</th>\n",
       "      <td>13757c</td>\n",
       "      <td>2020-03-27</td>\n",
       "      <td>9999-99-99</td>\n",
       "      <td>3</td>\n",
       "    </tr>\n",
       "    <tr>\n",
       "      <th>4</th>\n",
       "      <td>002371</td>\n",
       "      <td>2020-03-27</td>\n",
       "      <td>9999-99-99</td>\n",
       "      <td>3</td>\n",
       "    </tr>\n",
       "  </tbody>\n",
       "</table>\n",
       "</div>"
      ],
      "text/plain": [
       "  ID_REGISTRO FECHA_SINTOMAS   FECHA_DEF  RESULTADO\n",
       "0      1468a5     2020-03-27  9999-99-99          3\n",
       "1      043f64     2020-03-26  2020-03-30          3\n",
       "2      0e07d8     2020-03-28  2020-04-02          3\n",
       "3      13757c     2020-03-27  9999-99-99          3\n",
       "4      002371     2020-03-27  9999-99-99          3"
      ]
     },
     "execution_count": 7,
     "metadata": {},
     "output_type": "execute_result"
    }
   ],
   "source": [
    "#Se cambia el tipo de dato de FECHA_SINTOMAS\n",
    "datos['FECHA_SINTOMAS'] = pd.to_datetime(datos['FECHA_SINTOMAS'], format=\"%Y/%m/%d\")\n",
    "datos.head(5)"
   ]
  },
  {
   "cell_type": "markdown",
   "metadata": {},
   "source": [
    "Se filtran los pacientes positivos a COVID-19 (con RESULTADO igual a 1, 2 o 3), podemos ver que para esa fecha son 1,193,254 contagiados."
   ]
  },
  {
   "cell_type": "code",
   "execution_count": 8,
   "metadata": {},
   "outputs": [
    {
     "name": "stdout",
     "output_type": "stream",
     "text": [
      "<class 'pandas.core.frame.DataFrame'>\n",
      "Int64Index: 1193254 entries, 0 to 3053711\n",
      "Data columns (total 4 columns):\n",
      " #   Column          Non-Null Count    Dtype         \n",
      "---  ------          --------------    -----         \n",
      " 0   ID_REGISTRO     1193254 non-null  object        \n",
      " 1   FECHA_SINTOMAS  1193254 non-null  datetime64[ns]\n",
      " 2   FECHA_DEF       1193254 non-null  object        \n",
      " 3   RESULTADO       1193254 non-null  int64         \n",
      "dtypes: datetime64[ns](1), int64(1), object(2)\n",
      "memory usage: 45.5+ MB\n",
      "None\n"
     ]
    }
   ],
   "source": [
    "positivos = datos[datos['RESULTADO'] <= 3]\n",
    "print(positivos.info())\n",
    "#positivos.head(20)"
   ]
  },
  {
   "cell_type": "markdown",
   "metadata": {},
   "source": [
    "Para conocer los casos nuevos por día se suman los positivos por FECHA_SINTOMAS."
   ]
  },
  {
   "cell_type": "code",
   "execution_count": 9,
   "metadata": {},
   "outputs": [
    {
     "name": "stdout",
     "output_type": "stream",
     "text": [
      "<class 'pandas.core.frame.DataFrame'>\n",
      "DatetimeIndex: 296 entries, 2020-11-20 to 2020-02-23\n",
      "Data columns (total 1 columns):\n",
      " #   Column      Non-Null Count  Dtype\n",
      "---  ------      --------------  -----\n",
      " 0   infectados  296 non-null    int64\n",
      "dtypes: int64(1)\n",
      "memory usage: 4.6 KB\n",
      "None\n"
     ]
    }
   ],
   "source": [
    "aux = positivos[\"FECHA_SINTOMAS\"].value_counts()\n",
    "infectados = pd.DataFrame(aux)\n",
    "infectados.columns = ['infectados']\n",
    "#infectados.tail(20)\n",
    "print(infectados.info())"
   ]
  },
  {
   "cell_type": "code",
   "execution_count": 10,
   "metadata": {},
   "outputs": [
    {
     "data": {
      "text/plain": [
       "1193254"
      ]
     },
     "execution_count": 10,
     "metadata": {},
     "output_type": "execute_result"
    }
   ],
   "source": [
    "#Solo para verificar que los infectados suman los casos positivos\n",
    "infectados['infectados'].sum()"
   ]
  },
  {
   "cell_type": "markdown",
   "metadata": {},
   "source": [
    "Para contar los sobrevivientes por día se filtran todos los casos positivos (RESULTADO “1”, “2” o “3”) sin fecha de defunción (FECHA_DEF valor “99-99-9999”), pues serían los contagiados que no han muerto y se agrupan por la fecha que empezaron con los síntomas."
   ]
  },
  {
   "cell_type": "code",
   "execution_count": 11,
   "metadata": {},
   "outputs": [
    {
     "name": "stdout",
     "output_type": "stream",
     "text": [
      "<class 'pandas.core.frame.DataFrame'>\n",
      "DatetimeIndex: 295 entries, 2020-11-20 to 2020-02-23\n",
      "Data columns (total 1 columns):\n",
      " #   Column  Non-Null Count  Dtype\n",
      "---  ------  --------------  -----\n",
      " 0   sobre   295 non-null    int64\n",
      "dtypes: int64(1)\n",
      "memory usage: 4.6 KB\n",
      "None\n"
     ]
    }
   ],
   "source": [
    "aux = datos[(datos['RESULTADO'] <= 3) & (datos['FECHA_DEF'] == '9999-99-99')]\n",
    "aux = aux[\"FECHA_SINTOMAS\"].value_counts()\n",
    "sobrevivientes = pd.DataFrame(aux)\n",
    "sobrevivientes.columns = ['sobre']\n",
    "sobrevivientes.head(20)\n",
    "print(sobrevivientes.info())"
   ]
  },
  {
   "cell_type": "code",
   "execution_count": 12,
   "metadata": {},
   "outputs": [
    {
     "data": {
      "text/plain": [
       "1082381"
      ]
     },
     "execution_count": 12,
     "metadata": {},
     "output_type": "execute_result"
    }
   ],
   "source": [
    "#Son 1,082,381 personas contagiadas hasta la fecha de\n",
    "#la base de datos que siguen con vida\n",
    "sobrevivientes['sobre'].sum()"
   ]
  },
  {
   "cell_type": "markdown",
   "metadata": {},
   "source": [
    "Para contar los muertos por día se filtran todos los casos positivos (RESULTADO 1, 2 o 3) con fecha de defunción (FECHA_DEF distinto a “99-99-9999”) registrados en la base de datos y se agrupan por la fecha de defunción."
   ]
  },
  {
   "cell_type": "code",
   "execution_count": 13,
   "metadata": {},
   "outputs": [
    {
     "name": "stdout",
     "output_type": "stream",
     "text": [
      "<class 'pandas.core.frame.DataFrame'>\n",
      "DatetimeIndex: 267 entries, 2020-07-06 to 2020-12-08\n",
      "Data columns (total 1 columns):\n",
      " #   Column   Non-Null Count  Dtype\n",
      "---  ------   --------------  -----\n",
      " 0   muertes  267 non-null    int64\n",
      "dtypes: int64(1)\n",
      "memory usage: 4.2 KB\n",
      "None\n"
     ]
    }
   ],
   "source": [
    "aux = positivos[(datos['RESULTADO'] <= 3) & (datos['FECHA_DEF'] != '9999-99-99')]\n",
    "aux['FECHA_DEF'] = pd.to_datetime(aux['FECHA_DEF'], format = \"%Y/%m/%d\")\n",
    "aux = aux[\"FECHA_DEF\"].value_counts()\n",
    "muertes = pd.DataFrame(aux)\n",
    "muertes.columns = ['muertes']\n",
    "#muertes.head(20)\n",
    "print(muertes.info())"
   ]
  },
  {
   "cell_type": "markdown",
   "metadata": {},
   "source": [
    "Podemos ver que solo hay 267 días, es decir, que ha habido días en los que la gente no muere."
   ]
  },
  {
   "cell_type": "code",
   "execution_count": 14,
   "metadata": {},
   "outputs": [
    {
     "data": {
      "text/plain": [
       "110873"
      ]
     },
     "execution_count": 14,
     "metadata": {},
     "output_type": "execute_result"
    }
   ],
   "source": [
    "#Acumulado de muertes hasta la fecha de la base de datos\n",
    "#110,873 muertes\n",
    "muertes['muertes'].sum()"
   ]
  },
  {
   "cell_type": "markdown",
   "metadata": {},
   "source": [
    "Vamos a construir un DataFrame. Para esto juntaremos en una misma base de datos, por día, los casos nuevos de infección, los casos sobrevivientes (estos son los contagiados recorridos 14 días, que implica que la gente ya sanó) y los casos de muertes."
   ]
  },
  {
   "cell_type": "code",
   "execution_count": 15,
   "metadata": {},
   "outputs": [
    {
     "data": {
      "text/html": [
       "<div>\n",
       "<style scoped>\n",
       "    .dataframe tbody tr th:only-of-type {\n",
       "        vertical-align: middle;\n",
       "    }\n",
       "\n",
       "    .dataframe tbody tr th {\n",
       "        vertical-align: top;\n",
       "    }\n",
       "\n",
       "    .dataframe thead th {\n",
       "        text-align: right;\n",
       "    }\n",
       "</style>\n",
       "<table border=\"1\" class=\"dataframe\">\n",
       "  <thead>\n",
       "    <tr style=\"text-align: right;\">\n",
       "      <th></th>\n",
       "      <th>infectados</th>\n",
       "      <th>muertes</th>\n",
       "      <th>sobre</th>\n",
       "    </tr>\n",
       "  </thead>\n",
       "  <tbody>\n",
       "    <tr>\n",
       "      <th>2020-11-19</th>\n",
       "      <td>6234</td>\n",
       "      <td>368.0</td>\n",
       "      <td>5454.0</td>\n",
       "    </tr>\n",
       "    <tr>\n",
       "      <th>2020-11-20</th>\n",
       "      <td>9882</td>\n",
       "      <td>435.0</td>\n",
       "      <td>5498.0</td>\n",
       "    </tr>\n",
       "    <tr>\n",
       "      <th>2020-11-21</th>\n",
       "      <td>6095</td>\n",
       "      <td>433.0</td>\n",
       "      <td>5059.0</td>\n",
       "    </tr>\n",
       "    <tr>\n",
       "      <th>2020-11-22</th>\n",
       "      <td>6262</td>\n",
       "      <td>473.0</td>\n",
       "      <td>4934.0</td>\n",
       "    </tr>\n",
       "    <tr>\n",
       "      <th>2020-11-23</th>\n",
       "      <td>7895</td>\n",
       "      <td>431.0</td>\n",
       "      <td>6674.0</td>\n",
       "    </tr>\n",
       "    <tr>\n",
       "      <th>2020-11-24</th>\n",
       "      <td>6631</td>\n",
       "      <td>431.0</td>\n",
       "      <td>7008.0</td>\n",
       "    </tr>\n",
       "    <tr>\n",
       "      <th>2020-11-25</th>\n",
       "      <td>7037</td>\n",
       "      <td>416.0</td>\n",
       "      <td>5495.0</td>\n",
       "    </tr>\n",
       "    <tr>\n",
       "      <th>2020-11-26</th>\n",
       "      <td>5919</td>\n",
       "      <td>453.0</td>\n",
       "      <td>5029.0</td>\n",
       "    </tr>\n",
       "    <tr>\n",
       "      <th>2020-11-27</th>\n",
       "      <td>6240</td>\n",
       "      <td>479.0</td>\n",
       "      <td>5001.0</td>\n",
       "    </tr>\n",
       "    <tr>\n",
       "      <th>2020-11-28</th>\n",
       "      <td>6185</td>\n",
       "      <td>422.0</td>\n",
       "      <td>4961.0</td>\n",
       "    </tr>\n",
       "    <tr>\n",
       "      <th>2020-11-29</th>\n",
       "      <td>5105</td>\n",
       "      <td>433.0</td>\n",
       "      <td>6249.0</td>\n",
       "    </tr>\n",
       "    <tr>\n",
       "      <th>2020-11-30</th>\n",
       "      <td>6766</td>\n",
       "      <td>429.0</td>\n",
       "      <td>6095.0</td>\n",
       "    </tr>\n",
       "    <tr>\n",
       "      <th>2020-12-01</th>\n",
       "      <td>5963</td>\n",
       "      <td>449.0</td>\n",
       "      <td>6382.0</td>\n",
       "    </tr>\n",
       "    <tr>\n",
       "      <th>2020-12-02</th>\n",
       "      <td>3590</td>\n",
       "      <td>391.0</td>\n",
       "      <td>6321.0</td>\n",
       "    </tr>\n",
       "    <tr>\n",
       "      <th>2020-12-03</th>\n",
       "      <td>2790</td>\n",
       "      <td>389.0</td>\n",
       "      <td>5952.0</td>\n",
       "    </tr>\n",
       "    <tr>\n",
       "      <th>2020-12-04</th>\n",
       "      <td>2020</td>\n",
       "      <td>291.0</td>\n",
       "      <td>9454.0</td>\n",
       "    </tr>\n",
       "    <tr>\n",
       "      <th>2020-12-05</th>\n",
       "      <td>1255</td>\n",
       "      <td>319.0</td>\n",
       "      <td>5865.0</td>\n",
       "    </tr>\n",
       "    <tr>\n",
       "      <th>2020-12-06</th>\n",
       "      <td>422</td>\n",
       "      <td>242.0</td>\n",
       "      <td>6021.0</td>\n",
       "    </tr>\n",
       "    <tr>\n",
       "      <th>2020-12-07</th>\n",
       "      <td>837</td>\n",
       "      <td>64.0</td>\n",
       "      <td>7628.0</td>\n",
       "    </tr>\n",
       "    <tr>\n",
       "      <th>2020-12-08</th>\n",
       "      <td>2</td>\n",
       "      <td>1.0</td>\n",
       "      <td>6437.0</td>\n",
       "    </tr>\n",
       "  </tbody>\n",
       "</table>\n",
       "</div>"
      ],
      "text/plain": [
       "            infectados  muertes   sobre\n",
       "2020-11-19        6234    368.0  5454.0\n",
       "2020-11-20        9882    435.0  5498.0\n",
       "2020-11-21        6095    433.0  5059.0\n",
       "2020-11-22        6262    473.0  4934.0\n",
       "2020-11-23        7895    431.0  6674.0\n",
       "2020-11-24        6631    431.0  7008.0\n",
       "2020-11-25        7037    416.0  5495.0\n",
       "2020-11-26        5919    453.0  5029.0\n",
       "2020-11-27        6240    479.0  5001.0\n",
       "2020-11-28        6185    422.0  4961.0\n",
       "2020-11-29        5105    433.0  6249.0\n",
       "2020-11-30        6766    429.0  6095.0\n",
       "2020-12-01        5963    449.0  6382.0\n",
       "2020-12-02        3590    391.0  6321.0\n",
       "2020-12-03        2790    389.0  5952.0\n",
       "2020-12-04        2020    291.0  9454.0\n",
       "2020-12-05        1255    319.0  5865.0\n",
       "2020-12-06         422    242.0  6021.0\n",
       "2020-12-07         837     64.0  7628.0\n",
       "2020-12-08           2      1.0  6437.0"
      ]
     },
     "execution_count": 15,
     "metadata": {},
     "output_type": "execute_result"
    }
   ],
   "source": [
    "#creamos una base de datos que tenga todos los días desde 23/feb/2020\n",
    "#hasta 20/nov/2020\n",
    "date_index = pd.date_range('2020/02/23', periods=272, freq='D')\n",
    "aux0 = pd.DataFrame(index=date_index)\n",
    "#Se unen los infectados\n",
    "aux1 = pd.merge(left=aux0,right=infectados, how='outer', left_index=True, right_index=True)\n",
    "aux1 = aux1.fillna(0)\n",
    "#Se unen los muertos\n",
    "aux2 = pd.merge(left=aux1,right=muertes, how='outer', left_index=True, right_index=True)\n",
    "aux2 = aux2.fillna(0)\n",
    "#Para los sobrevivientes quitamos las fechas de index y se hacen una columna más\n",
    "aux3 = sobrevivientes.reset_index()\n",
    "aux3.drop('index', axis = 1, inplace=False)\n",
    "#Se suman 14 días a la fecha en que la persona se enfermo,\n",
    "#dado que no murió entonces 14 días despúes se sanó\n",
    "aux3['recorrido'] = aux3['index']+ timedelta(days=14)\n",
    "#Se fija la fecha recorrida como index para poder unirla a la otra base de datos\n",
    "aux3 = aux3.set_index(['recorrido'])\n",
    "#Unimos la gente que sanó a la base de datos\n",
    "ims = pd.merge(left=aux2,right=aux3, how='left', left_index=True, right_index=True)\n",
    "ims = ims.fillna(0)\n",
    "ims = ims.drop(['index'], axis='columns')\n",
    "ims.tail(20)\n",
    "#print(ims.info())\n",
    "#len(ims)"
   ]
  },
  {
   "cell_type": "markdown",
   "metadata": {},
   "source": [
    "!Ahora sí! Se crea la base de datos para trabajar el modelo SIR. \n",
    "\n",
    "**NOTA:** La columna de Susceptibles no se puede estimar, pues aunque es la población que no se ha contagiado no basta con restar al total de la población los contagiados por COVID pues se tendrían que sumar los nacimientos y restar las defunciones, además de que el total de la población tampoco es un dato certero, por lo tanto, no se cuenta con el grupo de los Susceptibles."
   ]
  },
  {
   "cell_type": "code",
   "execution_count": 16,
   "metadata": {},
   "outputs": [
    {
     "data": {
      "text/html": [
       "<div>\n",
       "<style scoped>\n",
       "    .dataframe tbody tr th:only-of-type {\n",
       "        vertical-align: middle;\n",
       "    }\n",
       "\n",
       "    .dataframe tbody tr th {\n",
       "        vertical-align: top;\n",
       "    }\n",
       "\n",
       "    .dataframe thead th {\n",
       "        text-align: right;\n",
       "    }\n",
       "</style>\n",
       "<table border=\"1\" class=\"dataframe\">\n",
       "  <thead>\n",
       "    <tr style=\"text-align: right;\">\n",
       "      <th></th>\n",
       "      <th>t</th>\n",
       "      <th>I</th>\n",
       "      <th>R</th>\n",
       "    </tr>\n",
       "  </thead>\n",
       "  <tbody>\n",
       "    <tr>\n",
       "      <th>2020-12-04</th>\n",
       "      <td>291.0</td>\n",
       "      <td>2020</td>\n",
       "      <td>9745.0</td>\n",
       "    </tr>\n",
       "    <tr>\n",
       "      <th>2020-12-05</th>\n",
       "      <td>292.0</td>\n",
       "      <td>1255</td>\n",
       "      <td>6184.0</td>\n",
       "    </tr>\n",
       "    <tr>\n",
       "      <th>2020-12-06</th>\n",
       "      <td>293.0</td>\n",
       "      <td>422</td>\n",
       "      <td>6263.0</td>\n",
       "    </tr>\n",
       "    <tr>\n",
       "      <th>2020-12-07</th>\n",
       "      <td>294.0</td>\n",
       "      <td>837</td>\n",
       "      <td>7692.0</td>\n",
       "    </tr>\n",
       "    <tr>\n",
       "      <th>2020-12-08</th>\n",
       "      <td>295.0</td>\n",
       "      <td>2</td>\n",
       "      <td>6438.0</td>\n",
       "    </tr>\n",
       "  </tbody>\n",
       "</table>\n",
       "</div>"
      ],
      "text/plain": [
       "                t     I       R\n",
       "2020-12-04  291.0  2020  9745.0\n",
       "2020-12-05  292.0  1255  6184.0\n",
       "2020-12-06  293.0   422  6263.0\n",
       "2020-12-07  294.0   837  7692.0\n",
       "2020-12-08  295.0     2  6438.0"
      ]
     },
     "execution_count": 16,
     "metadata": {},
     "output_type": "execute_result"
    }
   ],
   "source": [
    "#definimos la base de datos a trabajar\n",
    "N=125000000\n",
    "SIR_datos = {'t' : np.linspace(0, len(ims)-1, len(ims)),\n",
    "#             'S' : N - ims.infectados - (ims.muertes + ims.sobre),\n",
    "#             'S' : N - ims.infectados.cumsum(),\n",
    "             'I' : ims.infectados,\n",
    "             'R' : ims.muertes + ims.sobre}\n",
    "SIR_datos = pd.DataFrame(SIR_datos)\n",
    "#print(SIR_datos.info())\n",
    "#SIR_datos.iloc[0,1] = N - SIR_datos.iloc[0,2] - SIR_datos.iloc[0,3]\n",
    "SIR_datos.tail()"
   ]
  },
  {
   "cell_type": "markdown",
   "metadata": {},
   "source": [
    "Y las gráficas de infectados y recuperados son:"
   ]
  },
  {
   "cell_type": "code",
   "execution_count": 17,
   "metadata": {},
   "outputs": [
    {
     "data": {
      "image/png": "[encoded data removed]",
      "text/plain": [
       "<Figure size 720x216 with 1 Axes>"
      ]
     },
     "metadata": {
      "needs_background": "light"
     },
     "output_type": "display_data"
    }
   ],
   "source": [
    "# Gráfica de los infectados\n",
    "t = np.linspace(0, len(ims)-1, len(ims))\n",
    "fig = plt.figure(figsize=(10,3))\n",
    "plt.plot(t, SIR_datos.I, '-ok', color='r', label='Infectados reales', lw = 1)\n",
    "plt.plot(t, SIR_datos.R, '-ok', color = 'b', label='Recuperados reales', lw = 1)\n",
    "plt.xlabel('Días')\n",
    "plt.ylabel('Personas')\n",
    "plt.title('Infectados')\n",
    "plt.legend()\n",
    "plt.show()"
   ]
  },
  {
   "cell_type": "markdown",
   "metadata": {},
   "source": [
    "## Monte carlo para los parámetros $\\beta$ y $\\gamma$"
   ]
  },
  {
   "cell_type": "code",
   "execution_count": 18,
   "metadata": {},
   "outputs": [],
   "source": [
    "def deriv(z, t, b, g):\n",
    "    S, I, R = z\n",
    "    N = 125000000\n",
    "    dSdt = -b * S * I / N\n",
    "    dIdt = b * S * I / N - g * I\n",
    "    dRdt = g * I\n",
    "    return [dSdt, dIdt, dRdt]"
   ]
  },
  {
   "cell_type": "code",
   "execution_count": 19,
   "metadata": {},
   "outputs": [],
   "source": [
    "# Valores iniciales\n",
    "# Población total\n",
    "N = 125000000\n",
    "t = np.linspace(0, len(ims)-1, len(ims))\n",
    "# Infectados al tiempo cero\n",
    "def I0():\n",
    "    return 1\n",
    "# Recuperados al tiempo cero\n",
    "def R0():\n",
    "    return 0\n",
    "# Susceptibles al tiempo 0\n",
    "def S0():\n",
    "    return N - 1"
   ]
  },
  {
   "cell_type": "markdown",
   "metadata": {},
   "source": [
    "Para encontrar los mejores parámetros se corrieron muchos modelos \"jugando\" con la cota de los parámetros. Es importante mencionar que dado que $\\gamma$ representa una tasa de recuperación, y puesto que por el contexto de la enfermedad no sucede que el día en el que te enfermas, mueres, entonces $\\gamma$ solo puede tomar valores entre 0 y 1. Aunque es posible que otros valores mejoren el ajuste, por diseño del modelo ni tendría sentido."
   ]
  },
  {
   "cell_type": "markdown",
   "metadata": {},
   "source": [
    "### Monte Carlo con sólo el grupo de Infectados observados"
   ]
  },
  {
   "cell_type": "code",
   "execution_count": 20,
   "metadata": {},
   "outputs": [
    {
     "data": {
      "text/html": [
       "<div>\n",
       "<style scoped>\n",
       "    .dataframe tbody tr th:only-of-type {\n",
       "        vertical-align: middle;\n",
       "    }\n",
       "\n",
       "    .dataframe tbody tr th {\n",
       "        vertical-align: top;\n",
       "    }\n",
       "\n",
       "    .dataframe thead th {\n",
       "        text-align: right;\n",
       "    }\n",
       "</style>\n",
       "<table border=\"1\" class=\"dataframe\">\n",
       "  <thead>\n",
       "    <tr style=\"text-align: right;\">\n",
       "      <th></th>\n",
       "      <th>t</th>\n",
       "      <th>I</th>\n",
       "    </tr>\n",
       "  </thead>\n",
       "  <tbody>\n",
       "    <tr>\n",
       "      <th>2020-01-13</th>\n",
       "      <td>0.0</td>\n",
       "      <td>1</td>\n",
       "    </tr>\n",
       "    <tr>\n",
       "      <th>2020-01-27</th>\n",
       "      <td>1.0</td>\n",
       "      <td>1</td>\n",
       "    </tr>\n",
       "    <tr>\n",
       "      <th>2020-01-29</th>\n",
       "      <td>2.0</td>\n",
       "      <td>1</td>\n",
       "    </tr>\n",
       "    <tr>\n",
       "      <th>2020-02-06</th>\n",
       "      <td>3.0</td>\n",
       "      <td>1</td>\n",
       "    </tr>\n",
       "    <tr>\n",
       "      <th>2020-02-19</th>\n",
       "      <td>4.0</td>\n",
       "      <td>2</td>\n",
       "    </tr>\n",
       "    <tr>\n",
       "      <th>...</th>\n",
       "      <td>...</td>\n",
       "      <td>...</td>\n",
       "    </tr>\n",
       "    <tr>\n",
       "      <th>2020-12-04</th>\n",
       "      <td>291.0</td>\n",
       "      <td>2020</td>\n",
       "    </tr>\n",
       "    <tr>\n",
       "      <th>2020-12-05</th>\n",
       "      <td>292.0</td>\n",
       "      <td>1255</td>\n",
       "    </tr>\n",
       "    <tr>\n",
       "      <th>2020-12-06</th>\n",
       "      <td>293.0</td>\n",
       "      <td>422</td>\n",
       "    </tr>\n",
       "    <tr>\n",
       "      <th>2020-12-07</th>\n",
       "      <td>294.0</td>\n",
       "      <td>837</td>\n",
       "    </tr>\n",
       "    <tr>\n",
       "      <th>2020-12-08</th>\n",
       "      <td>295.0</td>\n",
       "      <td>2</td>\n",
       "    </tr>\n",
       "  </tbody>\n",
       "</table>\n",
       "<p>296 rows × 2 columns</p>\n",
       "</div>"
      ],
      "text/plain": [
       "                t     I\n",
       "2020-01-13    0.0     1\n",
       "2020-01-27    1.0     1\n",
       "2020-01-29    2.0     1\n",
       "2020-02-06    3.0     1\n",
       "2020-02-19    4.0     2\n",
       "...           ...   ...\n",
       "2020-12-04  291.0  2020\n",
       "2020-12-05  292.0  1255\n",
       "2020-12-06  293.0   422\n",
       "2020-12-07  294.0   837\n",
       "2020-12-08  295.0     2\n",
       "\n",
       "[296 rows x 2 columns]"
      ]
     },
     "execution_count": 20,
     "metadata": {},
     "output_type": "execute_result"
    }
   ],
   "source": [
    "#Se va a trabajar solo con la columna del tiempo y de Infectados\n",
    "SIR_datos[['t','I']]"
   ]
  },
  {
   "cell_type": "code",
   "execution_count": 21,
   "metadata": {},
   "outputs": [
    {
     "name": "stdout",
     "output_type": "stream",
     "text": [
      "   $beta$   $gamma$\n",
      "0     1.0  0.968716\n",
      "     $beta$   $gamma$\n",
      "0  0.527798  0.496727\n",
      "     $beta$   $gamma$\n",
      "0  0.398685  0.367648\n",
      "   $beta$   $gamma$\n",
      "0     1.0  0.968716\n",
      "   $beta$   $gamma$\n",
      "0     1.0  0.968716\n",
      "   $beta$   $gamma$\n",
      "0     1.0  0.968716\n",
      "   $beta$   $gamma$\n",
      "0     1.0  0.968716\n",
      "   $beta$   $gamma$\n",
      "0     1.0  0.968716\n",
      "     $beta$   $gamma$\n",
      "0  0.357369  0.326341\n",
      "   $beta$   $gamma$\n",
      "0     1.0  0.968716\n",
      "   $beta$   $gamma$\n",
      "0     1.0  0.968716\n",
      "   $beta$   $gamma$\n",
      "0     1.0  0.968716\n",
      "   $beta$   $gamma$\n",
      "0     1.0  0.968716\n",
      "   $beta$   $gamma$\n",
      "0     1.0  0.968716\n",
      "   $beta$   $gamma$\n",
      "0     1.0  0.968716\n",
      "   $beta$   $gamma$\n",
      "0     1.0  0.968716\n",
      "   $beta$   $gamma$\n",
      "0     1.0  0.968716\n",
      "   $beta$   $gamma$\n",
      "0     1.0  0.968716\n",
      "   $beta$   $gamma$\n",
      "0     1.0  0.968716\n",
      "   $beta$   $gamma$\n",
      "0     1.0  0.968716\n",
      "   $beta$   $gamma$\n",
      "0     1.0  0.968716\n",
      "   $beta$   $gamma$\n",
      "0     1.0  0.968716\n",
      "   $beta$   $gamma$\n",
      "0     1.0  0.968716\n",
      "   $beta$   $gamma$\n",
      "0     1.0  0.968716\n",
      "   $beta$   $gamma$\n",
      "0     1.0  0.968716\n",
      "     $beta$   $gamma$\n",
      "0  0.360963  0.329935\n",
      "     $beta$   $gamma$\n",
      "0  0.982436  0.951219\n",
      "   $beta$   $gamma$\n",
      "0     1.0  0.968716\n",
      "     $beta$  $gamma$\n",
      "0  1.031304      1.0\n",
      "     $beta$   $gamma$\n",
      "0  1.031143  0.999838\n",
      "     $beta$   $gamma$\n",
      "0  1.019057  0.987617\n",
      "     $beta$  $gamma$\n",
      "0  1.031304      1.0\n",
      "     $beta$   $gamma$\n",
      "0  1.031188  0.999884\n",
      "     $beta$  $gamma$\n",
      "0  1.031304      1.0\n",
      "     $beta$  $gamma$\n",
      "0  1.031304      1.0\n",
      "    $beta$   $gamma$\n",
      "0  1.03094  0.999637\n",
      "     $beta$   $gamma$\n",
      "0  1.031303  0.999999\n",
      "     $beta$   $gamma$\n",
      "0  0.144745  0.127637\n",
      "     $beta$  $gamma$\n",
      "0  1.031304      1.0\n",
      "     $beta$   $gamma$\n",
      "0  1.030811  0.999497\n",
      "     $beta$  $gamma$\n",
      "0  1.031304      1.0\n",
      "     $beta$  $gamma$\n",
      "0  1.031304      1.0\n",
      "     $beta$   $gamma$\n",
      "0  1.030553  0.999249\n",
      "     $beta$  $gamma$\n",
      "0  1.031304      1.0\n",
      "     $beta$  $gamma$\n",
      "0  1.031304      1.0\n",
      "     $beta$  $gamma$\n",
      "0  1.030934  0.99963\n",
      "     $beta$  $gamma$\n",
      "0  1.031304      1.0\n",
      "     $beta$   $gamma$\n",
      "0  1.019834  0.988537\n",
      "     $beta$  $gamma$\n",
      "0  1.031304      1.0\n",
      "     $beta$  $gamma$\n",
      "0  1.031304      1.0\n",
      "     $beta$  $gamma$\n",
      "0  1.031304      1.0\n",
      "     $beta$  $gamma$\n",
      "0  1.031304      1.0\n",
      "     $beta$  $gamma$\n",
      "0  1.031304      1.0\n",
      "     $beta$  $gamma$\n",
      "0  1.031304      1.0\n",
      "     $beta$   $gamma$\n",
      "0  1.031102  0.999798\n",
      "     $beta$  $gamma$\n",
      "0  1.031304      1.0\n",
      "     $beta$  $gamma$\n",
      "0  1.031304      1.0\n",
      "     $beta$  $gamma$\n",
      "0  1.031304      1.0\n",
      "     $beta$  $gamma$\n",
      "0  1.031304      1.0\n",
      "     $beta$   $gamma$\n",
      "0  0.224851  0.205046\n",
      "     $beta$  $gamma$\n",
      "0  1.031304      1.0\n",
      "     $beta$  $gamma$\n",
      "0  1.031304      1.0\n",
      "     $beta$  $gamma$\n",
      "0  1.031304      1.0\n",
      "     $beta$  $gamma$\n",
      "0  1.031304      1.0\n",
      "     $beta$  $gamma$\n",
      "0  1.031304      1.0\n",
      "     $beta$  $gamma$\n",
      "0  1.031304      1.0\n",
      "     $beta$  $gamma$\n",
      "0  1.031304      1.0\n",
      "     $beta$  $gamma$\n",
      "0  1.031304      1.0\n",
      "    $beta$   $gamma$\n",
      "0  1.02634  0.995039\n",
      "     $beta$  $gamma$\n",
      "0  1.031304      1.0\n",
      "     $beta$  $gamma$\n",
      "0  1.031304      1.0\n",
      "     $beta$  $gamma$\n",
      "0  1.031304      1.0\n",
      "     $beta$  $gamma$\n",
      "0  1.031304      1.0\n",
      "     $beta$  $gamma$\n",
      "0  1.031304      1.0\n",
      "     $beta$  $gamma$\n",
      "0  1.031304      1.0\n",
      "     $beta$  $gamma$\n",
      "0  1.031304      1.0\n",
      "     $beta$  $gamma$\n",
      "0  1.031304      1.0\n",
      "     $beta$  $gamma$\n",
      "0  1.031304      1.0\n",
      "     $beta$   $gamma$\n",
      "0  0.562758  0.531677\n",
      "     $beta$   $gamma$\n",
      "0  1.031281  0.999977\n",
      "     $beta$  $gamma$\n",
      "0  1.031304      1.0\n",
      "     $beta$  $gamma$\n",
      "0  1.031304      1.0\n",
      "     $beta$   $gamma$\n",
      "0  0.357866  0.326839\n",
      "     $beta$  $gamma$\n",
      "0  1.031304      1.0\n",
      "     $beta$   $gamma$\n",
      "0  1.027864  0.996562\n",
      "     $beta$  $gamma$\n",
      "0  1.031304      1.0\n",
      "     $beta$  $gamma$\n",
      "0  1.031304      1.0\n",
      "     $beta$  $gamma$\n",
      "0  1.031304      1.0\n",
      "     $beta$  $gamma$\n",
      "0  1.031304      1.0\n",
      "     $beta$   $gamma$\n",
      "0  1.031243  0.999938\n",
      "     $beta$   $gamma$\n",
      "0  1.030747  0.999444\n",
      "     $beta$   $gamma$\n",
      "0  0.936212  0.904965\n",
      "     $beta$  $gamma$\n",
      "0  1.031304      1.0\n",
      "     $beta$  $gamma$\n",
      "0  1.031304      1.0\n",
      "     $beta$  $gamma$\n",
      "0  1.031304      1.0\n",
      "     $beta$   $gamma$\n",
      "0  0.363128  0.332099\n",
      "     $beta$  $gamma$\n",
      "0  1.031304      1.0\n",
      "     $beta$  $gamma$\n",
      "0  1.031304      1.0\n",
      "     $beta$  $gamma$\n",
      "0  1.031304      1.0\n",
      "     $beta$   $gamma$\n",
      "0  1.031026  0.999722\n",
      "     $beta$   $gamma$\n",
      "0  1.028055  0.996752\n",
      "     $beta$  $gamma$\n",
      "0  1.031304      1.0\n",
      "     $beta$  $gamma$\n",
      "0  1.031304      1.0\n",
      "     $beta$  $gamma$\n",
      "0  1.031304      1.0\n",
      "     $beta$  $gamma$\n",
      "0  1.031304      1.0\n",
      "     $beta$  $gamma$\n",
      "0  1.031304      1.0\n",
      "     $beta$  $gamma$\n",
      "0  1.031304      1.0\n",
      "     $beta$  $gamma$\n",
      "0  1.031304      1.0\n",
      "     $beta$  $gamma$\n",
      "0  1.031304      1.0\n",
      "     $beta$  $gamma$\n",
      "0  1.031304      1.0\n",
      "     $beta$   $gamma$\n",
      "0  0.176284  0.145283\n",
      "     $beta$  $gamma$\n",
      "0  1.031304      1.0\n",
      "Wall time: 3min 9s\n"
     ]
    }
   ],
   "source": [
    "%%time\n",
    "evaluaciones = []\n",
    "for b in range(1,5):\n",
    "    for s in range(2,30):\n",
    "        g = 1/s\n",
    "        my_model = pde.PDEmodel(SIR_datos[['t','I']], deriv, [S0, I0, R0], bounds=[(0,b), (g,1)], \n",
    "                        param_names=[r'$beta$', r'$gamma$'], nvars=3, ndims=0, nreplicates=1, obsidx=[1], outfunc=None)\n",
    "        my_model.fit()\n",
    "        evaluaciones.append([my_model.best_params.iloc[0,0],my_model.best_params.iloc[0,1],my_model.best_error, b, g])\n",
    "#print(evaluaciones)"
   ]
  },
  {
   "cell_type": "code",
   "execution_count": 22,
   "metadata": {},
   "outputs": [],
   "source": [
    "#Esta función sirve para ordenar\n",
    "def Sort(sub_li): \n",
    "    sub_li.sort(key = lambda x: x[2]) \n",
    "    return sub_li "
   ]
  },
  {
   "cell_type": "code",
   "execution_count": 23,
   "metadata": {},
   "outputs": [
    {
     "name": "stdout",
     "output_type": "stream",
     "text": [
      "El parámetro Beta está entre 0 y 3  y el parámetro Gamma está entre 0.125 y 1.\n"
     ]
    }
   ],
   "source": [
    "#Ordenamos las evaluaciones\n",
    "eval_ord = Sort(evaluaciones)\n",
    "print(\"El parámetro Beta está entre 0 y\",eval_ord[0][3],\n",
    "      \" y el parámetro Gamma está entre\", eval_ord[0][4],\n",
    "      \"y 1.\")"
   ]
  },
  {
   "cell_type": "code",
   "execution_count": 24,
   "metadata": {},
   "outputs": [
    {
     "name": "stdout",
     "output_type": "stream",
     "text": [
      "     $beta$  $gamma$\n",
      "0  1.031304      1.0\n",
      "Wall time: 1.31 s\n"
     ]
    }
   ],
   "source": [
    "%%time\n",
    "my_model = pde.PDEmodel(SIR_datos[['t','I']], deriv, [S0, I0, R0], bounds=[(0,eval_ord[0][3]), (eval_ord[0][4],1)], \n",
    "                        param_names=[r'$beta$', r'$gamma$'], nvars=3, ndims=0, nreplicates=1, obsidx=(1), outfunc=None)\n",
    "my_model.fit()"
   ]
  },
  {
   "cell_type": "code",
   "execution_count": 25,
   "metadata": {},
   "outputs": [
    {
     "name": "stdout",
     "output_type": "stream",
     "text": [
      "16455230.413653642\n"
     ]
    }
   ],
   "source": [
    "print(my_model.best_error)"
   ]
  },
  {
   "cell_type": "code",
   "execution_count": 26,
   "metadata": {},
   "outputs": [
    {
     "data": {
      "text/html": [
       "<div>\n",
       "<style scoped>\n",
       "    .dataframe tbody tr th:only-of-type {\n",
       "        vertical-align: middle;\n",
       "    }\n",
       "\n",
       "    .dataframe tbody tr th {\n",
       "        vertical-align: top;\n",
       "    }\n",
       "\n",
       "    .dataframe thead th {\n",
       "        text-align: right;\n",
       "    }\n",
       "</style>\n",
       "<table border=\"1\" class=\"dataframe\">\n",
       "  <thead>\n",
       "    <tr style=\"text-align: right;\">\n",
       "      <th></th>\n",
       "      <th>$beta$</th>\n",
       "      <th>$gamma$</th>\n",
       "    </tr>\n",
       "  </thead>\n",
       "  <tbody>\n",
       "    <tr>\n",
       "      <th>0</th>\n",
       "      <td>1.031304</td>\n",
       "      <td>1.0</td>\n",
       "    </tr>\n",
       "  </tbody>\n",
       "</table>\n",
       "</div>"
      ],
      "text/plain": [
       "     $beta$  $gamma$\n",
       "0  1.031304      1.0"
      ]
     },
     "execution_count": 26,
     "metadata": {},
     "output_type": "execute_result"
    }
   ],
   "source": [
    "my_model.best_params"
   ]
  },
  {
   "cell_type": "markdown",
   "metadata": {},
   "source": [
    "#### Likelihood Profile"
   ]
  },
  {
   "cell_type": "code",
   "execution_count": 27,
   "metadata": {},
   "outputs": [
    {
     "data": {
      "application/vnd.jupyter.widget-view+json": {
       "model_id": "8df78cabc8e0438b9a48e9bb9c4e744a",
       "version_major": 2,
       "version_minor": 0
      },
      "text/plain": [
       "HBox(children=(FloatProgress(value=0.0, description='parameters', max=2.0, style=ProgressStyle(description_wid…"
      ]
     },
     "metadata": {},
     "output_type": "display_data"
    },
    {
     "data": {
      "application/vnd.jupyter.widget-view+json": {
       "model_id": "80c6eb611fee4b68b184b37c4e050a29",
       "version_major": 2,
       "version_minor": 0
      },
      "text/plain": [
       "HBox(children=(FloatProgress(value=0.0, description='values within parameters', style=ProgressStyle(descriptio…"
      ]
     },
     "metadata": {},
     "output_type": "display_data"
    },
    {
     "name": "stdout",
     "output_type": "stream",
     "text": [
      "\n"
     ]
    },
    {
     "data": {
      "application/vnd.jupyter.widget-view+json": {
       "model_id": "a329037b13004e678d20c602b8c75eab",
       "version_major": 2,
       "version_minor": 0
      },
      "text/plain": [
       "HBox(children=(FloatProgress(value=0.0, description='values within parameters', style=ProgressStyle(descriptio…"
      ]
     },
     "metadata": {},
     "output_type": "display_data"
    },
    {
     "name": "stdout",
     "output_type": "stream",
     "text": [
      "\n",
      "\n",
      "Wall time: 4min 17s\n"
     ]
    }
   ],
   "source": [
    "%%time\n",
    "my_model.likelihood_profiles()"
   ]
  },
  {
   "cell_type": "code",
   "execution_count": 28,
   "metadata": {},
   "outputs": [
    {
     "data": {
      "text/html": [
       "<div>\n",
       "<style scoped>\n",
       "    .dataframe tbody tr th:only-of-type {\n",
       "        vertical-align: middle;\n",
       "    }\n",
       "\n",
       "    .dataframe tbody tr th {\n",
       "        vertical-align: top;\n",
       "    }\n",
       "\n",
       "    .dataframe thead th {\n",
       "        text-align: right;\n",
       "    }\n",
       "</style>\n",
       "<table border=\"1\" class=\"dataframe\">\n",
       "  <thead>\n",
       "    <tr style=\"text-align: right;\">\n",
       "      <th></th>\n",
       "      <th>parameter</th>\n",
       "      <th>value</th>\n",
       "      <th>error</th>\n",
       "    </tr>\n",
       "  </thead>\n",
       "  <tbody>\n",
       "    <tr>\n",
       "      <th>0</th>\n",
       "      <td>$beta$</td>\n",
       "      <td>0.000000</td>\n",
       "      <td>2.223475e+07</td>\n",
       "    </tr>\n",
       "    <tr>\n",
       "      <th>1</th>\n",
       "      <td>$beta$</td>\n",
       "      <td>0.030303</td>\n",
       "      <td>2.223475e+07</td>\n",
       "    </tr>\n",
       "    <tr>\n",
       "      <th>2</th>\n",
       "      <td>$beta$</td>\n",
       "      <td>0.060606</td>\n",
       "      <td>2.223474e+07</td>\n",
       "    </tr>\n",
       "    <tr>\n",
       "      <th>3</th>\n",
       "      <td>$beta$</td>\n",
       "      <td>0.090909</td>\n",
       "      <td>2.223467e+07</td>\n",
       "    </tr>\n",
       "    <tr>\n",
       "      <th>4</th>\n",
       "      <td>$beta$</td>\n",
       "      <td>0.121212</td>\n",
       "      <td>2.223392e+07</td>\n",
       "    </tr>\n",
       "    <tr>\n",
       "      <th>...</th>\n",
       "      <td>...</td>\n",
       "      <td>...</td>\n",
       "      <td>...</td>\n",
       "    </tr>\n",
       "    <tr>\n",
       "      <th>195</th>\n",
       "      <td>$gamma$</td>\n",
       "      <td>0.964646</td>\n",
       "      <td>1.646671e+07</td>\n",
       "    </tr>\n",
       "    <tr>\n",
       "      <th>196</th>\n",
       "      <td>$gamma$</td>\n",
       "      <td>0.973485</td>\n",
       "      <td>1.646388e+07</td>\n",
       "    </tr>\n",
       "    <tr>\n",
       "      <th>197</th>\n",
       "      <td>$gamma$</td>\n",
       "      <td>0.982323</td>\n",
       "      <td>1.646103e+07</td>\n",
       "    </tr>\n",
       "    <tr>\n",
       "      <th>198</th>\n",
       "      <td>$gamma$</td>\n",
       "      <td>0.991162</td>\n",
       "      <td>1.645814e+07</td>\n",
       "    </tr>\n",
       "    <tr>\n",
       "      <th>199</th>\n",
       "      <td>$gamma$</td>\n",
       "      <td>1.000000</td>\n",
       "      <td>1.645526e+07</td>\n",
       "    </tr>\n",
       "  </tbody>\n",
       "</table>\n",
       "<p>200 rows × 3 columns</p>\n",
       "</div>"
      ],
      "text/plain": [
       "    parameter     value         error\n",
       "0      $beta$  0.000000  2.223475e+07\n",
       "1      $beta$  0.030303  2.223475e+07\n",
       "2      $beta$  0.060606  2.223474e+07\n",
       "3      $beta$  0.090909  2.223467e+07\n",
       "4      $beta$  0.121212  2.223392e+07\n",
       "..        ...       ...           ...\n",
       "195   $gamma$  0.964646  1.646671e+07\n",
       "196   $gamma$  0.973485  1.646388e+07\n",
       "197   $gamma$  0.982323  1.646103e+07\n",
       "198   $gamma$  0.991162  1.645814e+07\n",
       "199   $gamma$  1.000000  1.645526e+07\n",
       "\n",
       "[200 rows x 3 columns]"
      ]
     },
     "execution_count": 28,
     "metadata": {},
     "output_type": "execute_result"
    }
   ],
   "source": [
    "my_model.result_profiles"
   ]
  },
  {
   "cell_type": "code",
   "execution_count": 29,
   "metadata": {},
   "outputs": [
    {
     "name": "stderr",
     "output_type": "stream",
     "text": [
      "*c* argument looks like a single numeric RGB or RGBA sequence, which should be avoided as value-mapping will have precedence in case its length matches with *x* & *y*.  Please use the *color* keyword-argument or provide a 2-D array with a single row if you intend to specify the same RGB or RGBA value for all points.\n"
     ]
    },
    {
     "data": {
      "image/png": "[encoded data removed]",
      "text/plain": [
       "<Figure size 432x288 with 1 Axes>"
      ]
     },
     "metadata": {
      "needs_background": "light"
     },
     "output_type": "display_data"
    },
    {
     "name": "stderr",
     "output_type": "stream",
     "text": [
      "*c* argument looks like a single numeric RGB or RGBA sequence, which should be avoided as value-mapping will have precedence in case its length matches with *x* & *y*.  Please use the *color* keyword-argument or provide a 2-D array with a single row if you intend to specify the same RGB or RGBA value for all points.\n"
     ]
    },
    {
     "data": {
      "image/png": "[encoded data removed]",
      "text/plain": [
       "<Figure size 432x288 with 1 Axes>"
      ]
     },
     "metadata": {
      "needs_background": "light"
     },
     "output_type": "display_data"
    }
   ],
   "source": [
    "my_model.plot_profiles()"
   ]
  },
  {
   "cell_type": "markdown",
   "metadata": {},
   "source": [
    "#### Gráficas del modelo SIR con sólo el grupo de Infectados observado"
   ]
  },
  {
   "cell_type": "code",
   "execution_count": 30,
   "metadata": {},
   "outputs": [],
   "source": [
    "#Extraemos los valores del mejor modelo\n",
    "b = my_model.best_params.iloc[0,0]\n",
    "g = my_model.best_params.iloc[0,1]\n",
    "#Recordemos los valores iniciales\n",
    "N = 125000000\n",
    "I0 = 1\n",
    "R0 = 0\n",
    "S0 = N - I0 - R0\n",
    "z0 = S0, I0, R0\n",
    "t = np.linspace(0, len(ims)-1, len(ims))"
   ]
  },
  {
   "cell_type": "code",
   "execution_count": 31,
   "metadata": {},
   "outputs": [],
   "source": [
    "# Integrate the SIR equations over the time grid, t.\n",
    "ret = odeint(deriv, z0, t, args=(b, g))\n",
    "S, I, R = ret.T"
   ]
  },
  {
   "cell_type": "code",
   "execution_count": 32,
   "metadata": {},
   "outputs": [
    {
     "data": {
      "image/png": "[encoded data removed]",
      "text/plain": [
       "<Figure size 720x216 with 1 Axes>"
      ]
     },
     "metadata": {
      "needs_background": "light"
     },
     "output_type": "display_data"
    }
   ],
   "source": [
    "# Gráfica de los infectados\n",
    "fig = plt.figure(figsize=(10,3))\n",
    "plt.plot(t, SIR_datos.I, '-ok', color='r', label='Infectados reales', lw = 1)\n",
    "plt.plot(t, I, color = 'r', label='Infectados modelo SIR', lw = 1)\n",
    "plt.xlabel('Días')\n",
    "plt.ylabel('Personas')\n",
    "plt.title('Infectados')\n",
    "plt.legend()\n",
    "plt.show()"
   ]
  },
  {
   "cell_type": "markdown",
   "metadata": {},
   "source": [
    "### Monte Carlo con los grupos de Infectados y Recuperados observados"
   ]
  },
  {
   "cell_type": "code",
   "execution_count": 33,
   "metadata": {},
   "outputs": [],
   "source": [
    "# Valores iniciales\n",
    "# Población total\n",
    "N = 125000000\n",
    "t = np.linspace(0, len(ims)-1, len(ims))\n",
    "# Infectados al tiempo cero\n",
    "def I0():\n",
    "    return 1\n",
    "# Recuperados al tiempo cero\n",
    "def R0():\n",
    "    return 0\n",
    "# Susceptibles al tiempo 0\n",
    "def S0():\n",
    "    return N - 1"
   ]
  },
  {
   "cell_type": "code",
   "execution_count": 34,
   "metadata": {},
   "outputs": [
    {
     "name": "stdout",
     "output_type": "stream",
     "text": [
      "   $beta$   $gamma$\n",
      "0     1.0  0.982269\n",
      "   $beta$   $gamma$\n",
      "0     1.0  0.982269\n",
      "   $beta$   $gamma$\n",
      "0     1.0  0.982269\n",
      "   $beta$   $gamma$\n",
      "0     1.0  0.982269\n",
      "     $beta$   $gamma$\n",
      "0  0.997495  0.979753\n",
      "   $beta$   $gamma$\n",
      "0     1.0  0.982269\n",
      "   $beta$   $gamma$\n",
      "0     1.0  0.982269\n",
      "   $beta$   $gamma$\n",
      "0     1.0  0.982269\n",
      "   $beta$   $gamma$\n",
      "0     1.0  0.982269\n",
      "   $beta$   $gamma$\n",
      "0     1.0  0.982269\n",
      "     $beta$   $gamma$\n",
      "0  0.982551  0.964739\n",
      "   $beta$   $gamma$\n",
      "0     1.0  0.982269\n",
      "   $beta$   $gamma$\n",
      "0     1.0  0.982269\n",
      "     $beta$   $gamma$\n",
      "0  0.961488  0.943603\n",
      "   $beta$   $gamma$\n",
      "0     1.0  0.982269\n",
      "   $beta$   $gamma$\n",
      "0     1.0  0.982269\n",
      "   $beta$   $gamma$\n",
      "0     1.0  0.982269\n",
      "   $beta$   $gamma$\n",
      "0     1.0  0.982269\n",
      "   $beta$   $gamma$\n",
      "0     1.0  0.982269\n",
      "    $beta$   $gamma$\n",
      "0  0.07798  0.047619\n",
      "     $beta$   $gamma$\n",
      "0  0.075942  0.045455\n",
      "   $beta$   $gamma$\n",
      "0     1.0  0.982269\n",
      "   $beta$   $gamma$\n",
      "0     1.0  0.982269\n",
      "     $beta$   $gamma$\n",
      "0  0.072322  0.041611\n",
      "   $beta$   $gamma$\n",
      "0     1.0  0.982269\n",
      "   $beta$   $gamma$\n",
      "0     1.0  0.982269\n",
      "   $beta$   $gamma$\n",
      "0     1.0  0.982269\n",
      "   $beta$   $gamma$\n",
      "0     1.0  0.982269\n",
      "     $beta$  $gamma$\n",
      "0  1.017653      1.0\n",
      "     $beta$  $gamma$\n",
      "0  1.017653      1.0\n",
      "     $beta$  $gamma$\n",
      "0  1.017653      1.0\n",
      "     $beta$  $gamma$\n",
      "0  1.017653      1.0\n",
      "     $beta$  $gamma$\n",
      "0  1.017653      1.0\n",
      "     $beta$  $gamma$\n",
      "0  1.017653      1.0\n",
      "     $beta$  $gamma$\n",
      "0  1.017653      1.0\n",
      "     $beta$   $gamma$\n",
      "0  0.138357  0.111111\n",
      "     $beta$  $gamma$\n",
      "0  1.017653      1.0\n",
      "     $beta$   $gamma$\n",
      "0  0.118988  0.090909\n",
      "     $beta$  $gamma$\n",
      "0  1.017653      1.0\n",
      "     $beta$  $gamma$\n",
      "0  1.017653      1.0\n",
      "     $beta$   $gamma$\n",
      "0  1.013505  0.995832\n",
      "     $beta$   $gamma$\n",
      "0  1.007927  0.990265\n",
      "     $beta$  $gamma$\n",
      "0  0.092004   0.0625\n",
      "     $beta$  $gamma$\n",
      "0  1.017653      1.0\n",
      "     $beta$  $gamma$\n",
      "0  1.017653      1.0\n",
      "     $beta$  $gamma$\n",
      "0  1.017653      1.0\n",
      "     $beta$  $gamma$\n",
      "0  1.017653      1.0\n",
      "     $beta$  $gamma$\n",
      "0  1.017653      1.0\n",
      "     $beta$  $gamma$\n",
      "0  1.017653      1.0\n",
      "     $beta$  $gamma$\n",
      "0  1.017653      1.0\n",
      "     $beta$   $gamma$\n",
      "0  0.072374  0.041667\n",
      "     $beta$   $gamma$\n",
      "0  1.014942  0.997277\n",
      "     $beta$   $gamma$\n",
      "0  1.016554  0.998896\n",
      "     $beta$  $gamma$\n",
      "0  1.017653      1.0\n",
      "    $beta$   $gamma$\n",
      "0  1.01751  0.999864\n",
      "     $beta$  $gamma$\n",
      "0  1.017653      1.0\n",
      "     $beta$  $gamma$\n",
      "0  1.017653      1.0\n",
      "     $beta$  $gamma$\n",
      "0  1.017653      1.0\n",
      "     $beta$   $gamma$\n",
      "0  1.010939  0.993276\n",
      "     $beta$  $gamma$\n",
      "0  1.017653      1.0\n",
      "     $beta$   $gamma$\n",
      "0  1.016087  0.998435\n",
      "     $beta$  $gamma$\n",
      "0  0.994156  0.97641\n",
      "     $beta$   $gamma$\n",
      "0  1.009367  0.991676\n",
      "     $beta$   $gamma$\n",
      "0  1.016789  0.999229\n",
      "     $beta$  $gamma$\n",
      "0  1.017653      1.0\n",
      "     $beta$  $gamma$\n",
      "0  1.017653      1.0\n",
      "     $beta$  $gamma$\n",
      "0  1.017653      1.0\n",
      "     $beta$   $gamma$\n",
      "0  0.105664  0.076923\n",
      "     $beta$  $gamma$\n",
      "0  1.017653      1.0\n",
      "     $beta$  $gamma$\n",
      "0  1.017653      1.0\n",
      "    $beta$   $gamma$\n",
      "0  1.01338  0.995707\n",
      "     $beta$   $gamma$\n",
      "0  0.089408  0.059816\n",
      "     $beta$  $gamma$\n",
      "0  1.017653      1.0\n",
      "     $beta$  $gamma$\n",
      "0  1.017653      1.0\n",
      "     $beta$  $gamma$\n",
      "0  1.005368  0.98768\n",
      "     $beta$  $gamma$\n",
      "0  1.017653      1.0\n",
      "     $beta$  $gamma$\n",
      "0  1.017653      1.0\n",
      "    $beta$   $gamma$\n",
      "0  1.01399  0.996321\n",
      "     $beta$   $gamma$\n",
      "0  1.012421  0.994744\n",
      "     $beta$  $gamma$\n",
      "0  0.072321  0.04161\n",
      "     $beta$  $gamma$\n",
      "0  1.017653      1.0\n",
      "     $beta$  $gamma$\n",
      "0  1.017653      1.0\n",
      "     $beta$   $gamma$\n",
      "0  1.015807  0.998146\n",
      "     $beta$   $gamma$\n",
      "0  1.015238  0.997565\n",
      "    $beta$   $gamma$\n",
      "0  1.01584  0.998296\n",
      "     $beta$  $gamma$\n",
      "0  1.017653      1.0\n",
      "     $beta$  $gamma$\n",
      "0  1.017653      1.0\n",
      "     $beta$  $gamma$\n",
      "0  1.017653      1.0\n",
      "     $beta$   $gamma$\n",
      "0  0.261624  0.250038\n",
      "     $beta$   $gamma$\n",
      "0  0.169025  0.142857\n",
      "     $beta$  $gamma$\n",
      "0  1.017653      1.0\n",
      "     $beta$   $gamma$\n",
      "0  0.138357  0.111111\n",
      "     $beta$  $gamma$\n",
      "0  1.017653      1.0\n",
      "     $beta$  $gamma$\n",
      "0  1.017653      1.0\n",
      "     $beta$  $gamma$\n",
      "0  1.017653      1.0\n",
      "     $beta$   $gamma$\n",
      "0  0.105664  0.076923\n",
      "     $beta$  $gamma$\n",
      "0  1.017653      1.0\n",
      "     $beta$  $gamma$\n",
      "0  1.017653      1.0\n",
      "     $beta$   $gamma$\n",
      "0  1.017403  0.999748\n",
      "     $beta$  $gamma$\n",
      "0  1.017653      1.0\n",
      "     $beta$  $gamma$\n",
      "0  1.017653      1.0\n",
      "     $beta$   $gamma$\n",
      "0  0.162524  0.154728\n",
      "     $beta$   $gamma$\n",
      "0  0.080709  0.050593\n",
      "     $beta$   $gamma$\n",
      "0  0.078133  0.047834\n",
      "     $beta$  $gamma$\n",
      "0  1.017653      1.0\n",
      "     $beta$  $gamma$\n",
      "0  1.017653      1.0\n",
      "     $beta$   $gamma$\n",
      "0  1.017031  0.999386\n",
      "     $beta$  $gamma$\n",
      "0  1.017653      1.0\n",
      "     $beta$  $gamma$\n",
      "0  1.017653      1.0\n",
      "     $beta$   $gamma$\n",
      "0  0.071284  0.040529\n",
      "     $beta$   $gamma$\n",
      "0  0.989136  0.971353\n",
      "     $beta$   $gamma$\n",
      "0  0.072322  0.041611\n",
      "Wall time: 3min 20s\n"
     ]
    }
   ],
   "source": [
    "%%time\n",
    "evaluaciones = []\n",
    "for b in range(1,5):\n",
    "    for s in range(2,30):\n",
    "        g = 1/s\n",
    "        my_model = pde.PDEmodel(SIR_datos, deriv, [S0, I0, R0], bounds=[(0,b), (g,1)], \n",
    "                        param_names=[r'$beta$', r'$gamma$'], nvars=3, ndims=0, nreplicates=1, obsidx=[1,2], outfunc=None)\n",
    "        my_model.fit()\n",
    "        evaluaciones.append([my_model.best_params.iloc[0,0],my_model.best_params.iloc[0,1],my_model.best_error, b, g])\n",
    "#print(evaluaciones)"
   ]
  },
  {
   "cell_type": "code",
   "execution_count": 35,
   "metadata": {},
   "outputs": [],
   "source": [
    "#Esta función sirve para ordenar\n",
    "def Sort(sub_li): \n",
    "    sub_li.sort(key = lambda x: x[2]) \n",
    "    return sub_li "
   ]
  },
  {
   "cell_type": "code",
   "execution_count": 36,
   "metadata": {},
   "outputs": [
    {
     "name": "stdout",
     "output_type": "stream",
     "text": [
      "El parámetro Beta está entre 0 y 4  y el parámetro Gamma está entre 0.034482758620689655 y 1.\n"
     ]
    }
   ],
   "source": [
    "#Ordenamos las evaluaciones\n",
    "eval_ord = Sort(evaluaciones)\n",
    "print(\"El parámetro Beta está entre 0 y\",eval_ord[0][3],\n",
    "      \" y el parámetro Gamma está entre\", eval_ord[0][4],\n",
    "      \"y 1.\")"
   ]
  },
  {
   "cell_type": "code",
   "execution_count": 37,
   "metadata": {},
   "outputs": [
    {
     "name": "stdout",
     "output_type": "stream",
     "text": [
      "     $beta$  $gamma$\n",
      "0  1.031304      1.0\n",
      "Wall time: 2.27 s\n"
     ]
    }
   ],
   "source": [
    "%%time\n",
    "my_model = pde.PDEmodel(SIR_datos[['t','I']], deriv, [S0, I0, R0], bounds=[(0,eval_ord[0][3]), (eval_ord[0][4],1)], \n",
    "                        param_names=[r'$beta$', r'$gamma$'], nvars=3, ndims=0, nreplicates=1, obsidx=(1), outfunc=None)\n",
    "my_model.fit()"
   ]
  },
  {
   "cell_type": "code",
   "execution_count": 38,
   "metadata": {},
   "outputs": [
    {
     "name": "stdout",
     "output_type": "stream",
     "text": [
      "16455230.413686845\n"
     ]
    }
   ],
   "source": [
    "print(my_model.best_error)"
   ]
  },
  {
   "cell_type": "code",
   "execution_count": 39,
   "metadata": {},
   "outputs": [
    {
     "data": {
      "text/html": [
       "<div>\n",
       "<style scoped>\n",
       "    .dataframe tbody tr th:only-of-type {\n",
       "        vertical-align: middle;\n",
       "    }\n",
       "\n",
       "    .dataframe tbody tr th {\n",
       "        vertical-align: top;\n",
       "    }\n",
       "\n",
       "    .dataframe thead th {\n",
       "        text-align: right;\n",
       "    }\n",
       "</style>\n",
       "<table border=\"1\" class=\"dataframe\">\n",
       "  <thead>\n",
       "    <tr style=\"text-align: right;\">\n",
       "      <th></th>\n",
       "      <th>$beta$</th>\n",
       "      <th>$gamma$</th>\n",
       "    </tr>\n",
       "  </thead>\n",
       "  <tbody>\n",
       "    <tr>\n",
       "      <th>0</th>\n",
       "      <td>1.031304</td>\n",
       "      <td>1.0</td>\n",
       "    </tr>\n",
       "  </tbody>\n",
       "</table>\n",
       "</div>"
      ],
      "text/plain": [
       "     $beta$  $gamma$\n",
       "0  1.031304      1.0"
      ]
     },
     "execution_count": 39,
     "metadata": {},
     "output_type": "execute_result"
    }
   ],
   "source": [
    "my_model.best_params"
   ]
  },
  {
   "cell_type": "markdown",
   "metadata": {},
   "source": [
    "#### Likelihood Profile"
   ]
  },
  {
   "cell_type": "code",
   "execution_count": 40,
   "metadata": {},
   "outputs": [
    {
     "data": {
      "application/vnd.jupyter.widget-view+json": {
       "model_id": "3e290e85850c4255b6ef9001277567a2",
       "version_major": 2,
       "version_minor": 0
      },
      "text/plain": [
       "HBox(children=(FloatProgress(value=0.0, description='parameters', max=2.0, style=ProgressStyle(description_wid…"
      ]
     },
     "metadata": {},
     "output_type": "display_data"
    },
    {
     "data": {
      "application/vnd.jupyter.widget-view+json": {
       "model_id": "47e9f857c8c54743a814433ddcbcd92d",
       "version_major": 2,
       "version_minor": 0
      },
      "text/plain": [
       "HBox(children=(FloatProgress(value=0.0, description='values within parameters', style=ProgressStyle(descriptio…"
      ]
     },
     "metadata": {},
     "output_type": "display_data"
    },
    {
     "name": "stdout",
     "output_type": "stream",
     "text": [
      "\n"
     ]
    },
    {
     "data": {
      "application/vnd.jupyter.widget-view+json": {
       "model_id": "c0fb4760ba9e4561b993e08235e9005a",
       "version_major": 2,
       "version_minor": 0
      },
      "text/plain": [
       "HBox(children=(FloatProgress(value=0.0, description='values within parameters', style=ProgressStyle(descriptio…"
      ]
     },
     "metadata": {},
     "output_type": "display_data"
    },
    {
     "name": "stdout",
     "output_type": "stream",
     "text": [
      "\n",
      "\n",
      "Wall time: 4min 31s\n"
     ]
    }
   ],
   "source": [
    "%%time\n",
    "my_model.likelihood_profiles()"
   ]
  },
  {
   "cell_type": "code",
   "execution_count": 41,
   "metadata": {},
   "outputs": [
    {
     "data": {
      "text/html": [
       "<div>\n",
       "<style scoped>\n",
       "    .dataframe tbody tr th:only-of-type {\n",
       "        vertical-align: middle;\n",
       "    }\n",
       "\n",
       "    .dataframe tbody tr th {\n",
       "        vertical-align: top;\n",
       "    }\n",
       "\n",
       "    .dataframe thead th {\n",
       "        text-align: right;\n",
       "    }\n",
       "</style>\n",
       "<table border=\"1\" class=\"dataframe\">\n",
       "  <thead>\n",
       "    <tr style=\"text-align: right;\">\n",
       "      <th></th>\n",
       "      <th>parameter</th>\n",
       "      <th>value</th>\n",
       "      <th>error</th>\n",
       "    </tr>\n",
       "  </thead>\n",
       "  <tbody>\n",
       "    <tr>\n",
       "      <th>0</th>\n",
       "      <td>$beta$</td>\n",
       "      <td>0.000000</td>\n",
       "      <td>2.223469e+07</td>\n",
       "    </tr>\n",
       "    <tr>\n",
       "      <th>1</th>\n",
       "      <td>$beta$</td>\n",
       "      <td>0.040404</td>\n",
       "      <td>2.223415e+07</td>\n",
       "    </tr>\n",
       "    <tr>\n",
       "      <th>2</th>\n",
       "      <td>$beta$</td>\n",
       "      <td>0.080808</td>\n",
       "      <td>1.661691e+07</td>\n",
       "    </tr>\n",
       "    <tr>\n",
       "      <th>3</th>\n",
       "      <td>$beta$</td>\n",
       "      <td>0.121212</td>\n",
       "      <td>1.661569e+07</td>\n",
       "    </tr>\n",
       "    <tr>\n",
       "      <th>4</th>\n",
       "      <td>$beta$</td>\n",
       "      <td>0.161616</td>\n",
       "      <td>2.218714e+07</td>\n",
       "    </tr>\n",
       "    <tr>\n",
       "      <th>...</th>\n",
       "      <td>...</td>\n",
       "      <td>...</td>\n",
       "      <td>...</td>\n",
       "    </tr>\n",
       "    <tr>\n",
       "      <th>195</th>\n",
       "      <td>$gamma$</td>\n",
       "      <td>0.960989</td>\n",
       "      <td>1.646789e+07</td>\n",
       "    </tr>\n",
       "    <tr>\n",
       "      <th>196</th>\n",
       "      <td>$gamma$</td>\n",
       "      <td>0.970742</td>\n",
       "      <td>1.646488e+07</td>\n",
       "    </tr>\n",
       "    <tr>\n",
       "      <th>197</th>\n",
       "      <td>$gamma$</td>\n",
       "      <td>0.980495</td>\n",
       "      <td>1.646163e+07</td>\n",
       "    </tr>\n",
       "    <tr>\n",
       "      <th>198</th>\n",
       "      <td>$gamma$</td>\n",
       "      <td>0.990247</td>\n",
       "      <td>1.645851e+07</td>\n",
       "    </tr>\n",
       "    <tr>\n",
       "      <th>199</th>\n",
       "      <td>$gamma$</td>\n",
       "      <td>1.000000</td>\n",
       "      <td>1.645591e+07</td>\n",
       "    </tr>\n",
       "  </tbody>\n",
       "</table>\n",
       "<p>200 rows × 3 columns</p>\n",
       "</div>"
      ],
      "text/plain": [
       "    parameter     value         error\n",
       "0      $beta$  0.000000  2.223469e+07\n",
       "1      $beta$  0.040404  2.223415e+07\n",
       "2      $beta$  0.080808  1.661691e+07\n",
       "3      $beta$  0.121212  1.661569e+07\n",
       "4      $beta$  0.161616  2.218714e+07\n",
       "..        ...       ...           ...\n",
       "195   $gamma$  0.960989  1.646789e+07\n",
       "196   $gamma$  0.970742  1.646488e+07\n",
       "197   $gamma$  0.980495  1.646163e+07\n",
       "198   $gamma$  0.990247  1.645851e+07\n",
       "199   $gamma$  1.000000  1.645591e+07\n",
       "\n",
       "[200 rows x 3 columns]"
      ]
     },
     "execution_count": 41,
     "metadata": {},
     "output_type": "execute_result"
    }
   ],
   "source": [
    "my_model.result_profiles"
   ]
  },
  {
   "cell_type": "code",
   "execution_count": 42,
   "metadata": {},
   "outputs": [
    {
     "name": "stderr",
     "output_type": "stream",
     "text": [
      "*c* argument looks like a single numeric RGB or RGBA sequence, which should be avoided as value-mapping will have precedence in case its length matches with *x* & *y*.  Please use the *color* keyword-argument or provide a 2-D array with a single row if you intend to specify the same RGB or RGBA value for all points.\n"
     ]
    },
    {
     "data": {
      "image/png": "[encoded data removed]",
      "text/plain": [
       "<Figure size 432x288 with 1 Axes>"
      ]
     },
     "metadata": {
      "needs_background": "light"
     },
     "output_type": "display_data"
    },
    {
     "name": "stderr",
     "output_type": "stream",
     "text": [
      "*c* argument looks like a single numeric RGB or RGBA sequence, which should be avoided as value-mapping will have precedence in case its length matches with *x* & *y*.  Please use the *color* keyword-argument or provide a 2-D array with a single row if you intend to specify the same RGB or RGBA value for all points.\n"
     ]
    },
    {
     "data": {
      "image/png": "[encoded data removed]",
      "text/plain": [
       "<Figure size 432x288 with 1 Axes>"
      ]
     },
     "metadata": {
      "needs_background": "light"
     },
     "output_type": "display_data"
    }
   ],
   "source": [
    "my_model.plot_profiles()"
   ]
  },
  {
   "cell_type": "markdown",
   "metadata": {},
   "source": [
    "#### Gráficas del modelo SIR con los grupos de Infectados y Recuperados observados"
   ]
  },
  {
   "cell_type": "code",
   "execution_count": 43,
   "metadata": {},
   "outputs": [
    {
     "data": {
      "image/png": "[encoded data removed]",
      "text/plain": [
       "<Figure size 720x216 with 1 Axes>"
      ]
     },
     "metadata": {
      "needs_background": "light"
     },
     "output_type": "display_data"
    }
   ],
   "source": [
    "# Gráfica de los infectados\n",
    "fig = plt.figure(figsize=(10,3))\n",
    "plt.plot(t, SIR_datos.I, '-ok', color='r', label='Infectados reales', lw = 1)\n",
    "plt.plot(t, I, color = 'r', label='Infectados modelo SIR', lw = 1)\n",
    "plt.xlabel('Días')\n",
    "plt.ylabel('Personas')\n",
    "plt.title('Infectados')\n",
    "plt.legend()\n",
    "plt.show()"
   ]
  },
  {
   "cell_type": "code",
   "execution_count": 44,
   "metadata": {},
   "outputs": [
    {
     "data": {
      "image/png": "[encoded data removed]",
      "text/plain": [
       "<Figure size 720x288 with 1 Axes>"
      ]
     },
     "metadata": {
      "needs_background": "light"
     },
     "output_type": "display_data"
    }
   ],
   "source": [
    "# Gráfica de los Recuperados\n",
    "fig = plt.figure(figsize=(10,4))\n",
    "plt.plot(t, SIR_datos.R, 'o', color='g', label='Recuperados reales', lw = 1)\n",
    "plt.plot(t, R, color = 'g', label='Recuperados modelo SIR', lw = 1)\n",
    "plt.xlabel('Días')\n",
    "plt.ylabel('Personas')\n",
    "plt.title('Recuperados')\n",
    "plt.legend()\n",
    "plt.show()"
   ]
  },
  {
   "cell_type": "markdown",
   "metadata": {},
   "source": [
    "## Referencias:\n",
    "\n",
    "https://datos.covid-19.conacyt.mx/#DownZCSV\n",
    "\n",
    "https://www.inegi.org.mx/contenidos/saladeprensa/aproposito/2020/Poblacion2020_Nal.pdf\n",
    "\n",
    "https://python.quantecon.org/sir_model.html\n",
    "\n",
    "https://www.mscbs.gob.es/biblioPublic/publicaciones/recursos_propios/resp/revista_cdrom/VOL94/C_ESPECIALES/RS94C_202009109.pdf\n",
    "\n",
    "https://www.medigraphic.com/pdfs/forense/mmf-2020/mmf203c.pdf"
   ]
  }
 ],
 "metadata": {
  "kernelspec": {
   "display_name": "Python 3",
   "language": "python",
   "name": "python3"
  },
  "language_info": {
   "codemirror_mode": {
    "name": "ipython",
    "version": 3
   },
   "file_extension": ".py",
   "mimetype": "text/x-python",
   "name": "python",
   "nbconvert_exporter": "python",
   "pygments_lexer": "ipython3",
   "version": "3.8.3"
  }
 },
 "nbformat": 4,
 "nbformat_minor": 4
}
